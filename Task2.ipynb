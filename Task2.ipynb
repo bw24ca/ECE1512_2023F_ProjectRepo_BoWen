{
  "nbformat": 4,
  "nbformat_minor": 0,
  "metadata": {
    "colab": {
      "provenance": []
    },
    "kernelspec": {
      "name": "python3",
      "display_name": "Python 3"
    },
    "language_info": {
      "name": "python"
    }
  },
  "cells": [
    {
      "cell_type": "code",
      "execution_count": null,
      "metadata": {
        "id": "lyf4EfrEXvg9",
        "colab": {
          "base_uri": "https://localhost:8080/"
        },
        "outputId": "c7a10c42-5bda-4292-9ade-a8e31604b107"
      },
      "outputs": [
        {
          "output_type": "stream",
          "name": "stdout",
          "text": [
            "Mounted at /content/drive\n",
            "/content/drive/MyDrive/Colab Notebooks\n"
          ]
        }
      ],
      "source": [
        "from google.colab import drive\n",
        "drive.mount('/content/drive')\n",
        "%cd /content/drive/MyDrive/Colab\\ Notebooks/"
      ]
    },
    {
      "cell_type": "markdown",
      "source": [
        "# Knowledge Distillation in MHIST Dataset"
      ],
      "metadata": {
        "id": "QMvehWDFehhB"
      }
    },
    {
      "cell_type": "code",
      "source": [
        "import os\n",
        "import sys\n",
        "import numpy as np\n",
        "import random\n",
        "import matplotlib.pyplot as plt\n",
        "import pandas as pd\n",
        "from keras.preprocessing.image import ImageDataGenerator\n",
        "from PIL import Image\n",
        "from numpy import expand_dims\n",
        "from sklearn import preprocessing\n",
        "from tensorflow.keras.models import Model\n",
        "from sklearn.metrics import precision_score, recall_score, f1_score\n",
        "from sklearn.metrics import roc_auc_score\n",
        "import tensorflow.compat.v2 as tf\n",
        "from typing import Union\n",
        "from keras_flops import get_flops"
      ],
      "metadata": {
        "id": "bbZRPd9JeDrz"
      },
      "execution_count": null,
      "outputs": []
    },
    {
      "cell_type": "markdown",
      "source": [
        "# Load Dataset"
      ],
      "metadata": {
        "id": "g14dhnfzexP4"
      }
    },
    {
      "cell_type": "code",
      "source": [
        "# Prepare data\n",
        "path = \"/content/drive/MyDrive/ECE1512/images\"\n",
        "CSVfile = \"/content/drive/MyDrive/ECE1512/annotations.csv\"\n",
        "\n",
        "annotations = pd.read_csv(CSVfile)\n",
        "annotations.set_index('Image Name', inplace=True)\n",
        "annotations.head(10)"
      ],
      "metadata": {
        "colab": {
          "base_uri": "https://localhost:8080/",
          "height": 383
        },
        "id": "Je36iWJ0eDoq",
        "outputId": "e36839ea-bfd1-46f8-b11d-468017b2d152"
      },
      "execution_count": null,
      "outputs": [
        {
          "output_type": "execute_result",
          "data": {
            "text/plain": [
              "              Majority Vote Label  \\\n",
              "Image Name                          \n",
              "MHIST_aaa.png                 SSA   \n",
              "MHIST_aab.png                  HP   \n",
              "MHIST_aac.png                 SSA   \n",
              "MHIST_aae.png                  HP   \n",
              "MHIST_aaf.png                 SSA   \n",
              "MHIST_aag.png                  HP   \n",
              "MHIST_aah.png                  HP   \n",
              "MHIST_aai.png                  HP   \n",
              "MHIST_aaj.png                  HP   \n",
              "MHIST_aak.png                  HP   \n",
              "\n",
              "               Number of Annotators who Selected SSA (Out of 7) Partition  \n",
              "Image Name                                                                 \n",
              "MHIST_aaa.png                                                 6     train  \n",
              "MHIST_aab.png                                                 0     train  \n",
              "MHIST_aac.png                                                 5     train  \n",
              "MHIST_aae.png                                                 1     train  \n",
              "MHIST_aaf.png                                                 5     train  \n",
              "MHIST_aag.png                                                 2      test  \n",
              "MHIST_aah.png                                                 2      test  \n",
              "MHIST_aai.png                                                 3     train  \n",
              "MHIST_aaj.png                                                 0     train  \n",
              "MHIST_aak.png                                                 2     train  "
            ],
            "text/html": [
              "\n",
              "  <div id=\"df-215be4f1-37c9-4bee-b142-efbfd9adac43\" class=\"colab-df-container\">\n",
              "    <div>\n",
              "<style scoped>\n",
              "    .dataframe tbody tr th:only-of-type {\n",
              "        vertical-align: middle;\n",
              "    }\n",
              "\n",
              "    .dataframe tbody tr th {\n",
              "        vertical-align: top;\n",
              "    }\n",
              "\n",
              "    .dataframe thead th {\n",
              "        text-align: right;\n",
              "    }\n",
              "</style>\n",
              "<table border=\"1\" class=\"dataframe\">\n",
              "  <thead>\n",
              "    <tr style=\"text-align: right;\">\n",
              "      <th></th>\n",
              "      <th>Majority Vote Label</th>\n",
              "      <th>Number of Annotators who Selected SSA (Out of 7)</th>\n",
              "      <th>Partition</th>\n",
              "    </tr>\n",
              "    <tr>\n",
              "      <th>Image Name</th>\n",
              "      <th></th>\n",
              "      <th></th>\n",
              "      <th></th>\n",
              "    </tr>\n",
              "  </thead>\n",
              "  <tbody>\n",
              "    <tr>\n",
              "      <th>MHIST_aaa.png</th>\n",
              "      <td>SSA</td>\n",
              "      <td>6</td>\n",
              "      <td>train</td>\n",
              "    </tr>\n",
              "    <tr>\n",
              "      <th>MHIST_aab.png</th>\n",
              "      <td>HP</td>\n",
              "      <td>0</td>\n",
              "      <td>train</td>\n",
              "    </tr>\n",
              "    <tr>\n",
              "      <th>MHIST_aac.png</th>\n",
              "      <td>SSA</td>\n",
              "      <td>5</td>\n",
              "      <td>train</td>\n",
              "    </tr>\n",
              "    <tr>\n",
              "      <th>MHIST_aae.png</th>\n",
              "      <td>HP</td>\n",
              "      <td>1</td>\n",
              "      <td>train</td>\n",
              "    </tr>\n",
              "    <tr>\n",
              "      <th>MHIST_aaf.png</th>\n",
              "      <td>SSA</td>\n",
              "      <td>5</td>\n",
              "      <td>train</td>\n",
              "    </tr>\n",
              "    <tr>\n",
              "      <th>MHIST_aag.png</th>\n",
              "      <td>HP</td>\n",
              "      <td>2</td>\n",
              "      <td>test</td>\n",
              "    </tr>\n",
              "    <tr>\n",
              "      <th>MHIST_aah.png</th>\n",
              "      <td>HP</td>\n",
              "      <td>2</td>\n",
              "      <td>test</td>\n",
              "    </tr>\n",
              "    <tr>\n",
              "      <th>MHIST_aai.png</th>\n",
              "      <td>HP</td>\n",
              "      <td>3</td>\n",
              "      <td>train</td>\n",
              "    </tr>\n",
              "    <tr>\n",
              "      <th>MHIST_aaj.png</th>\n",
              "      <td>HP</td>\n",
              "      <td>0</td>\n",
              "      <td>train</td>\n",
              "    </tr>\n",
              "    <tr>\n",
              "      <th>MHIST_aak.png</th>\n",
              "      <td>HP</td>\n",
              "      <td>2</td>\n",
              "      <td>train</td>\n",
              "    </tr>\n",
              "  </tbody>\n",
              "</table>\n",
              "</div>\n",
              "    <div class=\"colab-df-buttons\">\n",
              "\n",
              "  <div class=\"colab-df-container\">\n",
              "    <button class=\"colab-df-convert\" onclick=\"convertToInteractive('df-215be4f1-37c9-4bee-b142-efbfd9adac43')\"\n",
              "            title=\"Convert this dataframe to an interactive table.\"\n",
              "            style=\"display:none;\">\n",
              "\n",
              "  <svg xmlns=\"http://www.w3.org/2000/svg\" height=\"24px\" viewBox=\"0 -960 960 960\">\n",
              "    <path d=\"M120-120v-720h720v720H120Zm60-500h600v-160H180v160Zm220 220h160v-160H400v160Zm0 220h160v-160H400v160ZM180-400h160v-160H180v160Zm440 0h160v-160H620v160ZM180-180h160v-160H180v160Zm440 0h160v-160H620v160Z\"/>\n",
              "  </svg>\n",
              "    </button>\n",
              "\n",
              "  <style>\n",
              "    .colab-df-container {\n",
              "      display:flex;\n",
              "      gap: 12px;\n",
              "    }\n",
              "\n",
              "    .colab-df-convert {\n",
              "      background-color: #E8F0FE;\n",
              "      border: none;\n",
              "      border-radius: 50%;\n",
              "      cursor: pointer;\n",
              "      display: none;\n",
              "      fill: #1967D2;\n",
              "      height: 32px;\n",
              "      padding: 0 0 0 0;\n",
              "      width: 32px;\n",
              "    }\n",
              "\n",
              "    .colab-df-convert:hover {\n",
              "      background-color: #E2EBFA;\n",
              "      box-shadow: 0px 1px 2px rgba(60, 64, 67, 0.3), 0px 1px 3px 1px rgba(60, 64, 67, 0.15);\n",
              "      fill: #174EA6;\n",
              "    }\n",
              "\n",
              "    .colab-df-buttons div {\n",
              "      margin-bottom: 4px;\n",
              "    }\n",
              "\n",
              "    [theme=dark] .colab-df-convert {\n",
              "      background-color: #3B4455;\n",
              "      fill: #D2E3FC;\n",
              "    }\n",
              "\n",
              "    [theme=dark] .colab-df-convert:hover {\n",
              "      background-color: #434B5C;\n",
              "      box-shadow: 0px 1px 3px 1px rgba(0, 0, 0, 0.15);\n",
              "      filter: drop-shadow(0px 1px 2px rgba(0, 0, 0, 0.3));\n",
              "      fill: #FFFFFF;\n",
              "    }\n",
              "  </style>\n",
              "\n",
              "    <script>\n",
              "      const buttonEl =\n",
              "        document.querySelector('#df-215be4f1-37c9-4bee-b142-efbfd9adac43 button.colab-df-convert');\n",
              "      buttonEl.style.display =\n",
              "        google.colab.kernel.accessAllowed ? 'block' : 'none';\n",
              "\n",
              "      async function convertToInteractive(key) {\n",
              "        const element = document.querySelector('#df-215be4f1-37c9-4bee-b142-efbfd9adac43');\n",
              "        const dataTable =\n",
              "          await google.colab.kernel.invokeFunction('convertToInteractive',\n",
              "                                                    [key], {});\n",
              "        if (!dataTable) return;\n",
              "\n",
              "        const docLinkHtml = 'Like what you see? Visit the ' +\n",
              "          '<a target=\"_blank\" href=https://colab.research.google.com/notebooks/data_table.ipynb>data table notebook</a>'\n",
              "          + ' to learn more about interactive tables.';\n",
              "        element.innerHTML = '';\n",
              "        dataTable['output_type'] = 'display_data';\n",
              "        await google.colab.output.renderOutput(dataTable, element);\n",
              "        const docLink = document.createElement('div');\n",
              "        docLink.innerHTML = docLinkHtml;\n",
              "        element.appendChild(docLink);\n",
              "      }\n",
              "    </script>\n",
              "  </div>\n",
              "\n",
              "\n",
              "<div id=\"df-b11495e4-fc96-4a3f-b2a6-7fb9881d55c2\">\n",
              "  <button class=\"colab-df-quickchart\" onclick=\"quickchart('df-b11495e4-fc96-4a3f-b2a6-7fb9881d55c2')\"\n",
              "            title=\"Suggest charts.\"\n",
              "            style=\"display:none;\">\n",
              "\n",
              "<svg xmlns=\"http://www.w3.org/2000/svg\" height=\"24px\"viewBox=\"0 0 24 24\"\n",
              "     width=\"24px\">\n",
              "    <g>\n",
              "        <path d=\"M19 3H5c-1.1 0-2 .9-2 2v14c0 1.1.9 2 2 2h14c1.1 0 2-.9 2-2V5c0-1.1-.9-2-2-2zM9 17H7v-7h2v7zm4 0h-2V7h2v10zm4 0h-2v-4h2v4z\"/>\n",
              "    </g>\n",
              "</svg>\n",
              "  </button>\n",
              "\n",
              "<style>\n",
              "  .colab-df-quickchart {\n",
              "      --bg-color: #E8F0FE;\n",
              "      --fill-color: #1967D2;\n",
              "      --hover-bg-color: #E2EBFA;\n",
              "      --hover-fill-color: #174EA6;\n",
              "      --disabled-fill-color: #AAA;\n",
              "      --disabled-bg-color: #DDD;\n",
              "  }\n",
              "\n",
              "  [theme=dark] .colab-df-quickchart {\n",
              "      --bg-color: #3B4455;\n",
              "      --fill-color: #D2E3FC;\n",
              "      --hover-bg-color: #434B5C;\n",
              "      --hover-fill-color: #FFFFFF;\n",
              "      --disabled-bg-color: #3B4455;\n",
              "      --disabled-fill-color: #666;\n",
              "  }\n",
              "\n",
              "  .colab-df-quickchart {\n",
              "    background-color: var(--bg-color);\n",
              "    border: none;\n",
              "    border-radius: 50%;\n",
              "    cursor: pointer;\n",
              "    display: none;\n",
              "    fill: var(--fill-color);\n",
              "    height: 32px;\n",
              "    padding: 0;\n",
              "    width: 32px;\n",
              "  }\n",
              "\n",
              "  .colab-df-quickchart:hover {\n",
              "    background-color: var(--hover-bg-color);\n",
              "    box-shadow: 0 1px 2px rgba(60, 64, 67, 0.3), 0 1px 3px 1px rgba(60, 64, 67, 0.15);\n",
              "    fill: var(--button-hover-fill-color);\n",
              "  }\n",
              "\n",
              "  .colab-df-quickchart-complete:disabled,\n",
              "  .colab-df-quickchart-complete:disabled:hover {\n",
              "    background-color: var(--disabled-bg-color);\n",
              "    fill: var(--disabled-fill-color);\n",
              "    box-shadow: none;\n",
              "  }\n",
              "\n",
              "  .colab-df-spinner {\n",
              "    border: 2px solid var(--fill-color);\n",
              "    border-color: transparent;\n",
              "    border-bottom-color: var(--fill-color);\n",
              "    animation:\n",
              "      spin 1s steps(1) infinite;\n",
              "  }\n",
              "\n",
              "  @keyframes spin {\n",
              "    0% {\n",
              "      border-color: transparent;\n",
              "      border-bottom-color: var(--fill-color);\n",
              "      border-left-color: var(--fill-color);\n",
              "    }\n",
              "    20% {\n",
              "      border-color: transparent;\n",
              "      border-left-color: var(--fill-color);\n",
              "      border-top-color: var(--fill-color);\n",
              "    }\n",
              "    30% {\n",
              "      border-color: transparent;\n",
              "      border-left-color: var(--fill-color);\n",
              "      border-top-color: var(--fill-color);\n",
              "      border-right-color: var(--fill-color);\n",
              "    }\n",
              "    40% {\n",
              "      border-color: transparent;\n",
              "      border-right-color: var(--fill-color);\n",
              "      border-top-color: var(--fill-color);\n",
              "    }\n",
              "    60% {\n",
              "      border-color: transparent;\n",
              "      border-right-color: var(--fill-color);\n",
              "    }\n",
              "    80% {\n",
              "      border-color: transparent;\n",
              "      border-right-color: var(--fill-color);\n",
              "      border-bottom-color: var(--fill-color);\n",
              "    }\n",
              "    90% {\n",
              "      border-color: transparent;\n",
              "      border-bottom-color: var(--fill-color);\n",
              "    }\n",
              "  }\n",
              "</style>\n",
              "\n",
              "  <script>\n",
              "    async function quickchart(key) {\n",
              "      const quickchartButtonEl =\n",
              "        document.querySelector('#' + key + ' button');\n",
              "      quickchartButtonEl.disabled = true;  // To prevent multiple clicks.\n",
              "      quickchartButtonEl.classList.add('colab-df-spinner');\n",
              "      try {\n",
              "        const charts = await google.colab.kernel.invokeFunction(\n",
              "            'suggestCharts', [key], {});\n",
              "      } catch (error) {\n",
              "        console.error('Error during call to suggestCharts:', error);\n",
              "      }\n",
              "      quickchartButtonEl.classList.remove('colab-df-spinner');\n",
              "      quickchartButtonEl.classList.add('colab-df-quickchart-complete');\n",
              "    }\n",
              "    (() => {\n",
              "      let quickchartButtonEl =\n",
              "        document.querySelector('#df-b11495e4-fc96-4a3f-b2a6-7fb9881d55c2 button');\n",
              "      quickchartButtonEl.style.display =\n",
              "        google.colab.kernel.accessAllowed ? 'block' : 'none';\n",
              "    })();\n",
              "  </script>\n",
              "</div>\n",
              "    </div>\n",
              "  </div>\n"
            ]
          },
          "metadata": {},
          "execution_count": 14
        }
      ]
    },
    {
      "cell_type": "code",
      "source": [
        "images_name = os.listdir(path)"
      ],
      "metadata": {
        "id": "5djE52yakaJk"
      },
      "execution_count": null,
      "outputs": []
    },
    {
      "cell_type": "code",
      "source": [
        "mhist_train_img = []\n",
        "mhist_train_label = []\n",
        "mhist_test_img = []\n",
        "mhist_test_label = []\n",
        "datagen = ImageDataGenerator(brightness_range=[0.2,1.0],\n",
        "                          zoom_range=[0.5,1.0],\n",
        "                          rotation_range=180)\n",
        "for img in images_name:\n",
        "\n",
        "    if annotations.loc[img]['Partition'] == 'train':\n",
        "        img_train_origin = Image.open(\"/content/drive/MyDrive/ECE1512/images/\" + img)\n",
        "        img_train_data = np.asarray(img_train_origin)\n",
        "\n",
        "        samples = expand_dims(img_train_data, 0)\n",
        "        it = datagen.flow(samples, batch_size=32)\n",
        "        batch = it.next()\n",
        "        image = batch[0].astype('uint8')\n",
        "        mhist_train_img.append(image)\n",
        "\n",
        "        img_train_label = annotations.loc[img]['Majority Vote Label']\n",
        "        mhist_train_label.append(img_train_label)\n",
        "    if annotations.loc[img]['Partition'] == 'test':\n",
        "        img_test_origin = Image.open(\"/content/drive/MyDrive/ECE1512/images/\" + img)\n",
        "        img_test_data = np.asarray(img_test_origin)\n",
        "\n",
        "        samples = expand_dims(img_test_data, 0)\n",
        "        it = datagen.flow(samples, batch_size=32)\n",
        "        batch = it.next()\n",
        "        image = batch[0].astype('uint8')\n",
        "        mhist_test_img.append(image)\n",
        "\n",
        "        img_label = annotations.loc[img]['Majority Vote Label']\n",
        "        mhist_test_label.append(img_label)"
      ],
      "metadata": {
        "id": "y7XY7vL6g5Sz"
      },
      "execution_count": null,
      "outputs": []
    },
    {
      "cell_type": "code",
      "source": [
        "mhist_train_img = np.array(mhist_train_img)\n",
        "mhist_train_label = np.array(mhist_train_label)\n",
        "mhist_test_img = np.array(mhist_test_img)\n",
        "mhist_test_label = np.array(mhist_test_label)\n",
        "mhist_train_img = mhist_train_img/255\n",
        "mhist_test_img = mhist_test_img/255"
      ],
      "metadata": {
        "id": "lLpaGvSZeDl-"
      },
      "execution_count": null,
      "outputs": []
    },
    {
      "cell_type": "code",
      "source": [
        "le = preprocessing.LabelEncoder()\n",
        "le.fit(mhist_train_label)\n",
        "mhist_train_label_le = le.transform(mhist_train_label)\n",
        "mhist_test_label_le = le.transform(mhist_test_label)"
      ],
      "metadata": {
        "id": "XIUYhIh_eDi2"
      },
      "execution_count": null,
      "outputs": []
    },
    {
      "cell_type": "code",
      "source": [],
      "metadata": {
        "id": "OOPL9VpUeDem"
      },
      "execution_count": null,
      "outputs": []
    },
    {
      "cell_type": "code",
      "source": [
        "# Build  teacher.\n",
        "def teacher_initial():\n",
        "  Res = tf.keras.applications.resnet_v2.ResNet50V2(include_top=False, input_shape=(224, 224, 3))\n",
        "  #Res.trainable = False\n",
        "  for layer in Res.layers[:185]:\n",
        "    layer.trainable = False\n",
        "  for layer in Res.layers[-5:]:\n",
        "    layer.trainable = True\n",
        "\n",
        "  average_tea = tf.keras.layers.GlobalAveragePooling2D()(Res.output)\n",
        "  dense_tea = tf.keras.layers.Dense(2, activation = 'softmax')(average_tea)\n",
        "  teacher_model = Model(inputs=Res.input, outputs=dense_tea)\n",
        "  return teacher_model"
      ],
      "metadata": {
        "id": "WUSh6C_GeDSY"
      },
      "execution_count": null,
      "outputs": []
    },
    {
      "cell_type": "code",
      "source": [
        "# Build student.\n",
        "def student_initial():\n",
        "  Mob = tf.keras.applications.mobilenet_v2.MobileNetV2(include_top=False, input_shape=(224, 224, 3))\n",
        "  Mob.trainable = False\n",
        "  '''for layer in Mob.layers[:149]:\n",
        "    layer.trainable = False\n",
        "  for layer in Mob.layers[-5:]:\n",
        "    layer.trainable = True'''\n",
        "\n",
        "  average_stu = tf.keras.layers.GlobalAveragePooling2D()(Mob.output)\n",
        "  dense_stu = tf.keras.layers.Dense(2, activation = 'softmax')(average_stu)\n",
        "  student_model = Model(inputs=Mob.input, outputs=dense_stu)\n",
        "  return student_model"
      ],
      "metadata": {
        "id": "VwDz9KOImiX6"
      },
      "execution_count": null,
      "outputs": []
    },
    {
      "cell_type": "code",
      "source": [
        "teacher_model = teacher_initial()\n",
        "student_model = student_initial()"
      ],
      "metadata": {
        "colab": {
          "base_uri": "https://localhost:8080/"
        },
        "id": "23oDcwCYm0ct",
        "outputId": "e75f9e2b-2a4c-43e6-8509-69836cf135e6"
      },
      "execution_count": null,
      "outputs": [
        {
          "output_type": "stream",
          "name": "stdout",
          "text": [
            "Downloading data from https://storage.googleapis.com/tensorflow/keras-applications/resnet/resnet50v2_weights_tf_dim_ordering_tf_kernels_notop.h5\n",
            "94668760/94668760 [==============================] - 1s 0us/step\n",
            "Downloading data from https://storage.googleapis.com/tensorflow/keras-applications/mobilenet_v2/mobilenet_v2_weights_tf_dim_ordering_tf_kernels_1.0_224_no_top.h5\n",
            "9406464/9406464 [==============================] - 0s 0us/step\n"
          ]
        }
      ]
    },
    {
      "cell_type": "code",
      "source": [
        "teacher_model.compile(\n",
        "    optimizer=tf.keras.optimizers.Adam(learning_rate=0.0001),\n",
        "    loss=tf.keras.losses.SparseCategoricalCrossentropy(),\n",
        "    metrics=[tf.keras.metrics.SparseCategoricalAccuracy()],\n",
        ")\n",
        "\n",
        "# Train teacher on data.\n",
        "teacher_model.fit(mhist_train_img, mhist_train_label_le, epochs=25)"
      ],
      "metadata": {
        "colab": {
          "base_uri": "https://localhost:8080/"
        },
        "id": "FyuQpCDWmo7V",
        "outputId": "2ae422d8-47c8-49b1-f151-089a4c06bb46"
      },
      "execution_count": null,
      "outputs": [
        {
          "output_type": "stream",
          "name": "stdout",
          "text": [
            "Epoch 1/25\n",
            "68/68 [==============================] - 423s 6s/step - loss: 0.5376 - sparse_categorical_accuracy: 0.7255\n",
            "Epoch 2/25\n",
            "68/68 [==============================] - 445s 7s/step - loss: 0.3993 - sparse_categorical_accuracy: 0.8189\n",
            "Epoch 3/25\n",
            "68/68 [==============================] - 398s 6s/step - loss: 0.3327 - sparse_categorical_accuracy: 0.8584\n",
            "Epoch 4/25\n",
            "68/68 [==============================] - 382s 6s/step - loss: 0.2820 - sparse_categorical_accuracy: 0.8993\n",
            "Epoch 5/25\n",
            "68/68 [==============================] - 432s 6s/step - loss: 0.2381 - sparse_categorical_accuracy: 0.9315\n",
            "Epoch 6/25\n",
            "68/68 [==============================] - 375s 6s/step - loss: 0.2083 - sparse_categorical_accuracy: 0.9490\n",
            "Epoch 7/25\n",
            "68/68 [==============================] - 364s 5s/step - loss: 0.1843 - sparse_categorical_accuracy: 0.9568\n",
            "Epoch 8/25\n",
            "68/68 [==============================] - 367s 5s/step - loss: 0.1565 - sparse_categorical_accuracy: 0.9738\n",
            "Epoch 9/25\n",
            "68/68 [==============================] - 366s 5s/step - loss: 0.1312 - sparse_categorical_accuracy: 0.9793\n",
            "Epoch 10/25\n",
            "68/68 [==============================] - 364s 5s/step - loss: 0.1172 - sparse_categorical_accuracy: 0.9844\n",
            "Epoch 11/25\n",
            "68/68 [==============================] - 370s 5s/step - loss: 0.0998 - sparse_categorical_accuracy: 0.9885\n",
            "Epoch 12/25\n",
            "68/68 [==============================] - 366s 5s/step - loss: 0.0865 - sparse_categorical_accuracy: 0.9922\n",
            "Epoch 13/25\n",
            "68/68 [==============================] - 362s 5s/step - loss: 0.0755 - sparse_categorical_accuracy: 0.9936\n",
            "Epoch 14/25\n",
            "68/68 [==============================] - 366s 5s/step - loss: 0.0683 - sparse_categorical_accuracy: 0.9954\n",
            "Epoch 15/25\n",
            "68/68 [==============================] - 363s 5s/step - loss: 0.0593 - sparse_categorical_accuracy: 0.9959\n",
            "Epoch 16/25\n",
            "68/68 [==============================] - 361s 5s/step - loss: 0.0535 - sparse_categorical_accuracy: 0.9972\n",
            "Epoch 17/25\n",
            "68/68 [==============================] - 359s 5s/step - loss: 0.0465 - sparse_categorical_accuracy: 0.9972\n",
            "Epoch 18/25\n",
            "68/68 [==============================] - 366s 5s/step - loss: 0.0404 - sparse_categorical_accuracy: 1.0000\n",
            "Epoch 19/25\n",
            "68/68 [==============================] - 362s 5s/step - loss: 0.0368 - sparse_categorical_accuracy: 0.9995\n",
            "Epoch 20/25\n",
            "68/68 [==============================] - 368s 5s/step - loss: 0.0326 - sparse_categorical_accuracy: 0.9991\n",
            "Epoch 21/25\n",
            "68/68 [==============================] - 386s 6s/step - loss: 0.0294 - sparse_categorical_accuracy: 1.0000\n",
            "Epoch 22/25\n",
            "68/68 [==============================] - 380s 6s/step - loss: 0.0261 - sparse_categorical_accuracy: 1.0000\n",
            "Epoch 23/25\n",
            "68/68 [==============================] - 369s 5s/step - loss: 0.0238 - sparse_categorical_accuracy: 1.0000\n",
            "Epoch 24/25\n",
            "68/68 [==============================] - 366s 5s/step - loss: 0.0219 - sparse_categorical_accuracy: 1.0000\n",
            "Epoch 25/25\n",
            "68/68 [==============================] - 370s 5s/step - loss: 0.0190 - sparse_categorical_accuracy: 1.0000\n"
          ]
        },
        {
          "output_type": "execute_result",
          "data": {
            "text/plain": [
              "<keras.src.callbacks.History at 0x7a454546fc10>"
            ]
          },
          "metadata": {},
          "execution_count": 28
        }
      ]
    },
    {
      "cell_type": "code",
      "source": [
        "tea_f1_score = f1_score(mhist_test_label_le, np.argmax(teacher_model.predict(mhist_test_img), axis=1))\n",
        "print('Teachers f1 score is',tea_f1_score)"
      ],
      "metadata": {
        "id": "rWj-Bp6Xm-Mh"
      },
      "execution_count": null,
      "outputs": []
    },
    {
      "cell_type": "code",
      "source": [
        "tea_auc = roc_auc_score(mhist_test_label_le, np.argmax(teacher_model.predict(mhist_test_img), axis=1))\n",
        "print('Teachers auc is',tea_auc)"
      ],
      "metadata": {
        "id": "typWaudsnCSD"
      },
      "execution_count": null,
      "outputs": []
    },
    {
      "cell_type": "code",
      "source": [],
      "metadata": {
        "id": "PfbtNGFjnGkD"
      },
      "execution_count": null,
      "outputs": []
    },
    {
      "cell_type": "code",
      "source": [
        "def distillation_loss(teacher_logits: tf.Tensor, student_logits: tf.Tensor,\n",
        "                      temperature: Union[float, tf.Tensor]):\n",
        "  soft_targets = tf.nn.softmax(teacher_logits / temperature)\n",
        "  return tf.reduce_mean(\n",
        "      tf.nn.softmax_cross_entropy_with_logits(soft_targets, student_logits / temperature)) * temperature ** 2"
      ],
      "metadata": {
        "id": "htdjWz7nnGZY"
      },
      "execution_count": null,
      "outputs": []
    },
    {
      "cell_type": "code",
      "source": [
        "class KD(tf.keras.Model):\n",
        "    def __init__(self, student, teacher):\n",
        "        super(KD, self).__init__()\n",
        "        self.teacher = teacher\n",
        "        self.student = student\n",
        "\n",
        "    def compile(self,optimizer,metrics,student_loss_fn,alpha,temperature):\n",
        "        super(KD, self).compile(optimizer=optimizer, metrics=metrics)\n",
        "        self.student_loss_fn = student_loss_fn\n",
        "        self.alpha = alpha\n",
        "        self.temperature = temperature\n",
        "\n",
        "    def train_step(self, data):\n",
        "        x, y = data\n",
        "\n",
        "        teacher_predictions = self.teacher(x, training=False)\n",
        "        with tf.GradientTape() as tape:\n",
        "            student_predictions = self.student(x, training=True)\n",
        "            student_loss = self.student_loss_fn(y, student_predictions)\n",
        "            dis_loss = distillation_loss(\n",
        "                tf.nn.softmax(teacher_predictions / self.temperature, axis=1),\n",
        "                tf.nn.softmax(student_predictions / self.temperature, axis=1),\n",
        "                temperature = self.temperature\n",
        "            )\n",
        "            loss_value = self.alpha * student_loss + (1 - self.alpha) * dis_loss\n",
        "\n",
        "        # Compute gradients\n",
        "        gradients = tape.gradient(loss_value, self.student.trainable_variables)\n",
        "        # Update weights\n",
        "        self.optimizer.apply_gradients(zip(gradients, self.student.trainable_variables))\n",
        "        # Update the metrics configured in `compile()`.\n",
        "        self.compiled_metrics.update_state(y, student_predictions)\n",
        "        # Return a dict of performance\n",
        "        results = {m.name: m.result() for m in self.metrics}\n",
        "        results.update(\n",
        "            {\"student_loss\": student_loss, \"distillation_loss\": dis_loss}\n",
        "        )\n",
        "        return results\n",
        "\n",
        "    def test_step(self, data):\n",
        "        # Unpack the data\n",
        "        x, y = data\n",
        "        # Compute predictions\n",
        "        y_prediction = self.student(x, training=False)\n",
        "        # Calculate the loss\n",
        "        student_loss = self.student_loss_fn(y, y_prediction)\n",
        "        # Update the metrics.\n",
        "        self.compiled_metrics.update_state(y, y_prediction)\n",
        "        # Return a dict of performance\n",
        "        results = {m.name: m.result() for m in self.metrics}\n",
        "        results.update({\"student_loss\": student_loss})\n",
        "        # return results\n",
        "        return y_prediction"
      ],
      "metadata": {
        "id": "mEf4rxOmnJBw"
      },
      "execution_count": null,
      "outputs": []
    },
    {
      "cell_type": "code",
      "source": [
        "student_model = student_initial()"
      ],
      "metadata": {
        "id": "gNXnm4KAo9ge"
      },
      "execution_count": null,
      "outputs": []
    },
    {
      "cell_type": "code",
      "source": [
        "distiller = KD(student=student_model, teacher=teacher_model)\n",
        "distiller.compile(\n",
        "      optimizer=tf.keras.optimizers.Adam(learning_rate=0.001),\n",
        "      metrics=[tf.keras.metrics.SparseCategoricalAccuracy()],\n",
        "      student_loss_fn=tf.keras.losses.SparseCategoricalCrossentropy(),\n",
        "      alpha=0.5,\n",
        "      temperature = 1,\n",
        "  )"
      ],
      "metadata": {
        "id": "mgNVhJnfo9Za"
      },
      "execution_count": null,
      "outputs": []
    },
    {
      "cell_type": "code",
      "source": [
        "distiller.fit(mhist_train_img, mhist_train_label_le, epochs=25)"
      ],
      "metadata": {
        "id": "q1NS5-fSo9Tx"
      },
      "execution_count": null,
      "outputs": []
    },
    {
      "cell_type": "code",
      "source": [
        "stu_f1_score = f1_score(mhist_test_label_le, np.argmax(student_model.predict(mhist_test_img), axis=1))\n",
        "print('Student f1 score is',stu_f1_score)"
      ],
      "metadata": {
        "id": "8j8kIa-2o9KP"
      },
      "execution_count": null,
      "outputs": []
    },
    {
      "cell_type": "code",
      "source": [
        "stu_auc = roc_auc_score(mhist_test_label_le, np.argmax(student_model.predict(mhist_test_img), axis=1))\n",
        "print('Student auc is',stu_auc)"
      ],
      "metadata": {
        "id": "s6c-J1-spKJy"
      },
      "execution_count": null,
      "outputs": []
    },
    {
      "cell_type": "code",
      "source": [
        "# Hyperparameter tuning\n",
        "\n",
        "T = [1, 2, 4, 16, 32, 64]\n",
        "student_f1_list = []\n",
        "student_auc_list = []\n",
        "for temp in T:\n",
        "  student_model = student_initial()\n",
        "  distiller = KD(student=student_model, teacher=teacher_model)\n",
        "  distiller.compile(\n",
        "      optimizer=tf.keras.optimizers.Adam(learning_rate=0.001),\n",
        "      metrics=[tf.keras.metrics.SparseCategoricalAccuracy()],\n",
        "      student_loss_fn=tf.keras.losses.SparseCategoricalCrossentropy(),\n",
        "      alpha=0.5,\n",
        "      temperature = temp,\n",
        "  )\n",
        "  distiller.fit(mhist_train_img, mhist_train_label_le, epochs=25)\n",
        "\n",
        "  stu_f1_score = f1_score(mhist_test_label_le, np.argmax(student_model.predict(mhist_test_img), axis=1))\n",
        "  stu_auc = roc_auc_score(mhist_test_label_le, np.argmax(student_model.predict(mhist_test_img), axis=1))\n",
        "\n",
        "  student_f1_list.append(stu_f1_score)\n",
        "  student_auc_list.append(stu_auc)\n",
        "\n",
        "  print(temp,'Temperature done')\n",
        "print('student_f1_list is',student_f1_list)\n",
        "print('student_auc_list is',student_auc_list)\n",
        "plt.plot(T, student_f1_list, label='f1')\n",
        "plt.plot(T, student_auc_list, label='auc')\n",
        "plt.xlabel(\"Temperature\")\n",
        "plt.ylabel(\"F1 score and AUC score\")\n",
        "plt.title(\"Distillation Performace vs. Temperature Hyperparameters\")\n",
        "plt.legend()\n",
        "plt.show()"
      ],
      "metadata": {
        "id": "YJQNyRrypMG3"
      },
      "execution_count": null,
      "outputs": []
    },
    {
      "cell_type": "code",
      "source": [
        "alpha_list = [0.1,0.3,0.5,0.7,0.9]\n",
        "student_f1_list = []\n",
        "student_auc_list = []\n",
        "for alpha in alpha_list:\n",
        "  student_model = student_initial()\n",
        "  distiller = KD(student=student_model, teacher=teacher_model)\n",
        "  distiller.compile(\n",
        "      optimizer=tf.keras.optimizers.Adam(learning_rate=0.001),\n",
        "      metrics=[tf.keras.metrics.SparseCategoricalAccuracy()],\n",
        "      student_loss_fn=tf.keras.losses.SparseCategoricalCrossentropy(),\n",
        "      alpha=alpha,\n",
        "      temperature = 2,\n",
        "  )\n",
        "  distiller.fit(mhist_train_img, mhist_train_label_le, epochs=25)\n",
        "\n",
        "  stu_f1_score = f1_score(mhist_test_label_le, np.argmax(student_model.predict(mhist_test_img), axis=1))\n",
        "  stu_auc = roc_auc_score(mhist_test_label_le, np.argmax(student_model.predict(mhist_test_img), axis=1))\n",
        "\n",
        "  student_f1_list.append(stu_f1_score)\n",
        "  student_auc_list.append(stu_auc)\n",
        "\n",
        "  print(alpha,'alpha done')\n",
        "print('student_f1_list is',student_f1_list)\n",
        "print('student_auc_list is',student_auc_list)\n",
        "plt.plot(alpha_list, student_f1_list, label='f1')\n",
        "plt.plot(alpha_list, student_auc_list, label='auc')\n",
        "plt.xlabel(\"alpha\")\n",
        "plt.ylabel(\"F1 score and AUC score\")\n",
        "plt.title(\"Distillation Performace vs. Task Balance Hyperparameters\")\n",
        "plt.legend()\n",
        "plt.show()"
      ],
      "metadata": {
        "id": "eKxa6ZWApaX2"
      },
      "execution_count": null,
      "outputs": []
    },
    {
      "cell_type": "code",
      "source": [
        "# Train student from scratch\n",
        "student_model.compile(\n",
        "    optimizer=tf.keras.optimizers.Adam(learning_rate=0.001),\n",
        "    loss=tf.keras.losses.SparseCategoricalCrossentropy(),\n",
        "    metrics=[tf.keras.metrics.SparseCategoricalAccuracy()],\n",
        ")\n",
        "\n",
        "# Train student from scratch\n",
        "student_model.fit(mhist_train_img, mhist_train_label_le, steps_per_epoch=68, epochs=25)"
      ],
      "metadata": {
        "id": "ArOr94vTqML1"
      },
      "execution_count": null,
      "outputs": []
    },
    {
      "cell_type": "code",
      "source": [
        "stu_f1_score = f1_score(mhist_test_label_le, np.argmax(student_model.predict(mhist_test_img), axis=1))\n",
        "print('Student f1 score is',stu_f1_score)"
      ],
      "metadata": {
        "id": "rE-ejyG9qdO1"
      },
      "execution_count": null,
      "outputs": []
    },
    {
      "cell_type": "code",
      "source": [
        "stu_auc = roc_auc_score(mhist_test_label_le, np.argmax(student_model.predict(mhist_test_img), axis=1))\n",
        "print('Student auc is',stu_auc)"
      ],
      "metadata": {
        "id": "knm1f58CqkMm"
      },
      "execution_count": null,
      "outputs": []
    },
    {
      "cell_type": "code",
      "source": [
        "# Flops\n",
        "teacherflops = get_flops(teacher_model)\n",
        "studentflops = get_flops(student_model)\n",
        "print('flops for teacher ResNet model is',teacherflops)\n",
        "print('flops for student MobileNet model is',studentflops)"
      ],
      "metadata": {
        "id": "64MIKhNAqnjB"
      },
      "execution_count": null,
      "outputs": []
    },
    {
      "cell_type": "code",
      "source": [
        "# TA Model\n",
        "\n",
        "def ta_initial():\n",
        "  Res = tf.keras.applications.resnet_v2.ResNet50V2(include_top=False, input_shape=(224, 224, 3))\n",
        "  Res.trainable = False\n",
        "  '''for layer in Res.layers[:186]:\n",
        "    layer.trainable = False\n",
        "  for layer in Res.layers[-4:]:\n",
        "    layer.trainable = True'''\n",
        "\n",
        "  average_tea = tf.keras.layers.GlobalAveragePooling2D()(Res.output)\n",
        "  dense_tea = tf.keras.layers.Dense(2, activation = 'softmax')(average_tea)\n",
        "  ta_model = Model(inputs=Res.input, outputs=dense_tea)\n",
        "  return ta_model\n",
        "\n",
        "def ta_initial_mob():\n",
        "  Mob = tf.keras.applications.mobilenet_v2.MobileNetV2(include_top=False, input_shape=(224, 224, 3))\n",
        "  Mob.trainable = False\n",
        "  for layer in Mob.layers[:149]:\n",
        "    layer.trainable = False\n",
        "  for layer in Mob.layers[-3:]:\n",
        "    layer.trainable = True\n",
        "\n",
        "  average_tea = tf.keras.layers.GlobalAveragePooling2D()(Mob.output)\n",
        "  dense_tea = tf.keras.layers.Dense(2, activation = 'softmax')(average_tea)\n",
        "  ta_model = Model(inputs=Mob.input, outputs=dense_tea)\n",
        "  return ta_model"
      ],
      "metadata": {
        "id": "JOW0jE3IqnZU"
      },
      "execution_count": null,
      "outputs": []
    },
    {
      "cell_type": "code",
      "source": [
        "ta_model = ta_initial()\n",
        "distiller = KD(student=ta_model, teacher=teacher_model)\n",
        "distiller.compile(\n",
        "      optimizer=tf.keras.optimizers.Adam(learning_rate=0.001),\n",
        "      metrics=[tf.keras.metrics.SparseCategoricalAccuracy()],\n",
        "      student_loss_fn=tf.keras.losses.SparseCategoricalCrossentropy(),\n",
        "      alpha=0.5,\n",
        "      temperature = 1,\n",
        "  )\n"
      ],
      "metadata": {
        "id": "VbWlTe_It574"
      },
      "execution_count": null,
      "outputs": []
    },
    {
      "cell_type": "code",
      "source": [
        "distiller.fit(mhist_train_img, mhist_train_label_le, epochs=25)"
      ],
      "metadata": {
        "id": "81QhdFHvt6oT"
      },
      "execution_count": null,
      "outputs": []
    },
    {
      "cell_type": "code",
      "source": [
        "student_model = student_initial()\n",
        "distiller = KD(student=student_model, teacher=ta_model)\n",
        "distiller.compile(\n",
        "      optimizer=tf.keras.optimizers.Adam(learning_rate=0.001),\n",
        "      metrics=[tf.keras.metrics.SparseCategoricalAccuracy()],\n",
        "      student_loss_fn=tf.keras.losses.SparseCategoricalCrossentropy(),\n",
        "      alpha=0.5,\n",
        "      temperature = 1,\n",
        "  )"
      ],
      "metadata": {
        "id": "qb2TP6cTuBBa"
      },
      "execution_count": null,
      "outputs": []
    },
    {
      "cell_type": "code",
      "source": [
        "distiller.fit(mhist_train_img, mhist_train_label_le, epochs=25)"
      ],
      "metadata": {
        "id": "JkHGy_xWuA7U"
      },
      "execution_count": null,
      "outputs": []
    },
    {
      "cell_type": "code",
      "source": [
        "stu_f1_score = f1_score(mhist_test_label_le, np.argmax(student_model.predict(mhist_test_img), axis=1))\n",
        "print('Student f1 score is',stu_f1_score)"
      ],
      "metadata": {
        "id": "cULNBpsJuJ6_"
      },
      "execution_count": null,
      "outputs": []
    },
    {
      "cell_type": "code",
      "source": [
        "stu_auc = roc_auc_score(mhist_test_label_le, np.argmax(student_model.predict(mhist_test_img), axis=1))\n",
        "print('Student auc is',stu_auc)"
      ],
      "metadata": {
        "id": "zrP6U810uLeg"
      },
      "execution_count": null,
      "outputs": []
    }
  ]
}